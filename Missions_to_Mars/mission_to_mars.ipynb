{
 "cells": [
  {
   "cell_type": "code",
   "execution_count": 7,
   "metadata": {},
   "outputs": [],
   "source": [
    "# Dependencies\n",
    "from splinter import Browser\n",
    "from bs4 import BeautifulSoup\n",
    "import time"
   ]
  },
  {
   "cell_type": "code",
   "execution_count": 8,
   "metadata": {},
   "outputs": [],
   "source": [
    "# setups up chromedriver and the browser control\n",
    "executable_path = {\"executable_path\": \"chromedriver.exe\"}\n",
    "browser =  Browser(\"chrome\", **executable_path, headless=False)"
   ]
  },
  {
   "cell_type": "code",
   "execution_count": 9,
   "metadata": {},
   "outputs": [],
   "source": [
    "# URL of page to be scraped\n",
    "url = \"https://mars.nasa.gov/news/\"\n",
    "\n",
    "# sets browser to visit the url and then wait to ensure all of the page loads\n",
    "browser.visit(url)\n",
    "time.sleep(5)\n",
    "\n",
    "# builds soup object for data scraping\n",
    "html = browser.html\n",
    "soup = BeautifulSoup(html, \"html.parser\")"
   ]
  },
  {
   "cell_type": "code",
   "execution_count": 10,
   "metadata": {
    "scrolled": true
   },
   "outputs": [],
   "source": [
    "# this can break from blackmagic, ask gretel\n",
    "# pulls the first index in list_text as variable recent\n",
    "recent = soup.find_all(\"div\", class_=\"list_text\")[0]\n",
    "# finds the title and paragraph text within recent\n",
    "news_title = recent.find(\"div\",class_=\"content_title\").text\n",
    "news_p = recent.find(\"div\",class_=\"article_teaser_body\").text"
   ]
  },
  {
   "cell_type": "code",
   "execution_count": 11,
   "metadata": {},
   "outputs": [],
   "source": [
    "# reassign url variable to next site\n",
    "url = \"https://www.jpl.nasa.gov/spaceimages/?search=&category=Mars\"\n",
    "\n",
    "# sets browser to visit the url and then wait to ensure all of the page loads\n",
    "browser.visit(url)\n",
    "time.sleep(5)\n",
    "\n",
    "# builds soup object for data scraping\n",
    "html = browser.html\n",
    "soup = BeautifulSoup(html, \"html.parser\")"
   ]
  },
  {
   "cell_type": "code",
   "execution_count": 51,
   "metadata": {},
   "outputs": [
    {
     "data": {
      "text/plain": [
       "'https://www.jpl.nasa.gov/spaceimages/images/mediumsize/PIA19637_ip.jpg'"
      ]
     },
     "execution_count": 51,
     "metadata": {},
     "output_type": "execute_result"
    }
   ],
   "source": [
    "# locates .jpg link from feature image \n",
    "fancy_href = soup.find_all(\"a\", class_=\"button fancybox\")[0].get(\"data-fancybox-href\")\n",
    "# completes link url\n",
    "featured_image_url = 'https://www.jpl.nasa.gov' + fancy_href"
   ]
  },
  {
   "cell_type": "code",
   "execution_count": 53,
   "metadata": {},
   "outputs": [],
   "source": [
    "# reassign url variable to next site\n",
    "url = \"https://twitter.com/marswxreport?lang=en\"\n",
    "\n",
    "# sets browser to visit the url and then wait to ensure all of the page loads\n",
    "# this sleep step is longer to account for twitter restrictions\n",
    "browser.visit(url)\n",
    "time.sleep(30)\n",
    "\n",
    "# builds soup object for data scraping\n",
    "html = browser.html\n",
    "soup = BeautifulSoup(html, \"html.parser\")"
   ]
  },
  {
   "cell_type": "code",
   "execution_count": 63,
   "metadata": {},
   "outputs": [
    {
     "data": {
      "text/plain": [
       "'InSight sol 524 (2020-05-18) low -92.5ºC (-134.4ºF) high 0.5ºC (32.9ºF)\\nwinds from the SW at 4.8 m/s (10.7 mph) gusting to 15.3 m/s (34.3 mph)\\npressure at 7.00 hPa'"
      ]
     },
     "execution_count": 63,
     "metadata": {},
     "output_type": "execute_result"
    }
   ],
   "source": [
    "# pulls all possible tweets\n",
    "tweets = soup.find_all(\"span\", class_=\"css-901oao css-16my406 r-1qd0xha r-ad9z0x r-bcqeeo r-qvutc0\")\n",
    "# sets up empty weather update tweet list\n",
    "update_tweets = []\n",
    "# filters possible tweets to just those that include marker signifying an update\n",
    "for tweet in tweets:\n",
    "    if \"InSight sol\" in tweet.text:\n",
    "        update_tweets.append(tweet.text)\n",
    "# assigns latest update to new variable\n",
    "mars_weather = update_tweets[0]"
   ]
  },
  {
   "cell_type": "code",
   "execution_count": 61,
   "metadata": {},
   "outputs": [
    {
     "data": {
      "text/plain": [
       "True"
      ]
     },
     "execution_count": 61,
     "metadata": {},
     "output_type": "execute_result"
    }
   ],
   "source": []
  }
 ],
 "metadata": {
  "kernelspec": {
   "display_name": "Python 3",
   "language": "python",
   "name": "python3"
  },
  "language_info": {
   "codemirror_mode": {
    "name": "ipython",
    "version": 3
   },
   "file_extension": ".py",
   "mimetype": "text/x-python",
   "name": "python",
   "nbconvert_exporter": "python",
   "pygments_lexer": "ipython3",
   "version": "3.6.10"
  }
 },
 "nbformat": 4,
 "nbformat_minor": 4
}
